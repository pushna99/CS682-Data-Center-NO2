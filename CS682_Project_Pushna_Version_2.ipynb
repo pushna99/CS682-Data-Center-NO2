{
  "nbformat": 4,
  "nbformat_minor": 0,
  "metadata": {
    "colab": {
      "name": "CS682_Project-Pushna Version 2.ipynb",
      "provenance": [],
      "collapsed_sections": [],
      "authorship_tag": "ABX9TyO4DFgx0YykDerI1ydFQEQK",
      "include_colab_link": true
    },
    "kernelspec": {
      "name": "python3",
      "display_name": "Python 3"
    },
    "language_info": {
      "name": "python"
    }
  },
  "cells": [
    {
      "cell_type": "markdown",
      "metadata": {
        "id": "view-in-github",
        "colab_type": "text"
      },
      "source": [
        "<a href=\"https://colab.research.google.com/github/pushna99/CS682-Data-Center-NO2/blob/main/CS682_Project_Pushna_Version_2.ipynb\" target=\"_parent\"><img src=\"https://colab.research.google.com/assets/colab-badge.svg\" alt=\"Open In Colab\"/></a>"
      ]
    },
    {
      "cell_type": "code",
      "execution_count": null,
      "metadata": {
        "id": "tGnILKEATyTY"
      },
      "outputs": [],
      "source": [
        "import csv\n",
        "import pandas as pd\n",
        "import numpy as np\n",
        "from geopy.geocoders import Nominatim\n",
        "from geopy import distance\n",
        "\n",
        "from google.colab import drive\n",
        "from googleapiclient.discovery import build\n",
        "drive_service = build('drive', 'v3')\n",
        "# Get the contents of NASA Timeseries files through URL\n",
        "!wget https://so2.gsfc.nasa.gov/no2/pix/time_series/OMNO2_Timeseries_AllCities.csv -q\n",
        "data=pd.read_csv('OMNO2_Timeseries_AllCities.csv',index_col=False, on_bad_lines='skip',skiprows=7)\n",
        "df = pd.DataFrame(data)"
      ]
    },
    {
      "cell_type": "code",
      "source": [
        "sum_med = df.groupby('City')['Median'].mean()\n",
        "print(sum_med)\n",
        "\n",
        "with open('OMNO2_Timeseries_AllCities.csv','r') as f_in:\n",
        "    f = csv.reader(f_in)\n",
        "    rows=df.groupby(['City','Country','LonCenter','LatCenter']).agg({'Median': ['mean']})\n",
        "    rows.columns = ['Average NO2']\n",
        "    rows = rows.reset_index()\n",
        "\n",
        "geolocator = Nominatim(user_agent='myapplication')\n",
        "for index, row in rows.iterrows():\n",
        "  #Get latitude and longitude using city and state code (for US cities)/ country name \n",
        "  location = geolocator.geocode(row[0]+\",\"+row[1],timeout=1000)\n",
        "  if not location == None:\n",
        "    rows.loc[index,\"LatCenter\"]=location.latitude\n",
        "    rows.loc[index,\"LonCenter\"]=location.longitude\n",
        "#Authorize access to google drive\n",
        "drive.mount('/content/drive', force_remount=True)\n",
        "try:\n",
        "  nasa_cities_worksheet = pd.read_excel('/content/drive/My Drive/ColabNotebooks/outputFolder/nasa-cities.xlsx')\n",
        "  rows.to_excel('/content/drive/My Drive/ColabNotebooks/outputFolder/nasa-cities.xlsx',index=False)\n",
        "except FileNotFoundError:\n",
        "  rows.to_excel('/content/drive/My Drive/ColabNotebooks/outputFolder/nasa-cities.xlsx',index=False)\n",
        "\n",
        "nasa_cities = rows.rename(columns={'City': 'City Name','LonCenter':'Longitude','LatCenter':'Latitude'})"
      ],
      "metadata": {
        "colab": {
          "base_uri": "https://localhost:8080/"
        },
        "id": "2ICgHd2bkBKv",
        "outputId": "814b5020-444a-4c1d-890c-2af05fa69379"
      },
      "execution_count": null,
      "outputs": [
        {
          "output_type": "stream",
          "name": "stdout",
          "text": [
            "City\n",
            "Aberdeen     -0.241590\n",
            "Abidjan      -0.289164\n",
            "AbuDhabi      2.574397\n",
            "Abuja         1.005829\n",
            "Accra        -1.289991\n",
            "               ...    \n",
            "Yangoon     -13.736218\n",
            "Yaounde      -0.751641\n",
            "Yerevan       1.201822\n",
            "Zhengzhou     6.617612\n",
            "Zurich        1.628643\n",
            "Name: Median, Length: 316, dtype: float64\n",
            "Mounted at /content/drive\n"
          ]
        }
      ]
    },
    {
      "cell_type": "code",
      "source": [
        "#Read contents of lat-lon file\n",
        "dfll = pd.read_excel('/content/drive/My Drive/ColabNotebooks/outputFolder/lat-lon.xlsx')\n",
        "\n",
        "#read contents of input file containing customer cities\n",
        "dfcity = pd.read_excel('/content/drive/My Drive/ColabNotebooks/inputFolder/input.xlsx')\n",
        "\n",
        "#Add two new columns \"Latitude\" and \"Longitude\"\n",
        "dfcity[\"Latitude\"] = pd.NaT\n",
        "dfcity[\"Longitude\"] = pd.NaT\n",
        "geolocator = Nominatim(user_agent='myapplication')\n",
        "for index, row in dfcity.iterrows():\n",
        "  #Get latitude and longitude using city and state code (for US cities)/ country name \n",
        "  location = geolocator.geocode(row[0]+\",\"+row[1],timeout=1000)\n",
        "  if not location == None:\n",
        "    dfcity.loc[index,\"Latitude\"]=location.latitude\n",
        "    dfcity.loc[index,\"Longitude\"]=location.longitude\n",
        "\n",
        "#Drop NaT values and update the lat-lon file\n",
        "dfcity=dfcity.dropna()\n",
        "dfcity.update([dfcity.columns.values.tolist()] + dfcity.values.tolist())\n",
        "\n",
        "customer_cities = pd.concat([dfcity,dfll], axis = 0).drop_duplicates().reset_index(drop=True)"
      ],
      "metadata": {
        "id": "y5cQGfHiq1gT"
      },
      "execution_count": null,
      "outputs": []
    },
    {
      "cell_type": "code",
      "source": [
        "nasa_cities = nasa_cities.apply(pd.to_numeric, errors='ignore')\n",
        "customer_cities = customer_cities.apply(pd.to_numeric, errors='ignore')\n",
        "#NO2data = pd.merge(customer_cities,nasa_cities , on=['Longitude','Latitude'])\n",
        "customer_cities[\"Average NO2\"] = pd.NaT\n",
        "\n",
        "# Check the nearest city based on latitude and longitude values\n",
        "for index, row in customer_cities.iterrows():\n",
        "  min_distance=float('inf')\n",
        "  for nindex, nrow in nasa_cities.iterrows():\n",
        "    if(distance.distance((row['Latitude'],row['Longitude']), (nrow['Latitude'],nrow['Longitude'])).miles < min_distance):\n",
        "      min_distance = distance.distance((row['Latitude'],row['Longitude']), (nrow['Latitude'],nrow['Longitude'])).miles\n",
        "      min_index = nindex\n",
        "  customer_cities.loc[index,'Average NO2'] = nasa_cities['Average NO2'].values[min_index]"
      ],
      "metadata": {
        "id": "VZ-D_YKM0BS_"
      },
      "execution_count": null,
      "outputs": []
    },
    {
      "cell_type": "code",
      "source": [
        "#Creating a new Average NO2 data in the output folder\n",
        "customer_cities.to_excel('/content/drive/My Drive/ColabNotebooks/outputFolder/average_no2_data.xlsx',index=False)"
      ],
      "metadata": {
        "id": "NRsnuH6a1qGR"
      },
      "execution_count": null,
      "outputs": []
    },
    {
      "cell_type": "code",
      "source": [
        ""
      ],
      "metadata": {
        "id": "a3ixhPVnleZy"
      },
      "execution_count": null,
      "outputs": []
    },
    {
      "cell_type": "code",
      "source": [
        ""
      ],
      "metadata": {
        "id": "yDmIN5YXmXqt"
      },
      "execution_count": null,
      "outputs": []
    }
  ]
}